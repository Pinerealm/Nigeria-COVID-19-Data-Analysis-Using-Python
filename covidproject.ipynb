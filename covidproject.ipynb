{
 "cells": [
  {
   "cell_type": "markdown",
   "metadata": {},
   "source": [
    "# ANALYSIS OF NIGERIA'S COVID-19 DATA"
   ]
  },
  {
   "cell_type": "markdown",
   "metadata": {},
   "source": [
    "## Data Collection"
   ]
  },
  {
   "cell_type": "markdown",
   "metadata": {},
   "source": [
    "### A - NCDC website scrap\n",
    "Get relevant COVID-19 data from the NCDC website - https://covid19.ncdc.gov.ng"
   ]
  },
  {
   "cell_type": "code",
   "execution_count": null,
   "metadata": {},
   "outputs": [],
   "source": [
    "# Import libraries\n",
    "import os\n",
    "import glob\n",
    "import requests\n",
    "import numpy as np\n",
    "import pandas as pd\n",
    "import datetime as dt\n",
    "import csv\n",
    "from bs4 import BeautifulSoup\n",
    "import seaborn as sns\n",
    "sns.set_style(\"darkgrid\")\n",
    "import matplotlib.pyplot as plt\n",
    "%matplotlib inline\n",
    "plt.style.use('fivethirtyeight')  \n",
    "import warnings\n",
    "warnings.filterwarnings('ignore')"
   ]
  },
  {
   "cell_type": "code",
   "execution_count": null,
   "metadata": {},
   "outputs": [],
   "source": [
    "# Request the NCDC page containing the required info\n",
    "page = requests.get('https://covid19.ncdc.gov.ng')\n",
    "\n",
    "# Parse `page` content with `BeautifulSoup`\n",
    "soup = BeautifulSoup(page.content, 'html.parser')"
   ]
  },
  {
   "cell_type": "markdown",
   "metadata": {},
   "source": [
    "#### Extract summary info about samples tested and COVID-19 cases.\n",
    "* Save the info as a pandas Series "
   ]
  },
  {
   "cell_type": "code",
   "execution_count": null,
   "metadata": {},
   "outputs": [],
   "source": [
    "# After inspecting the source of the `page` object and the contents of the `soup` object:\n",
    "covid_summary = {}\n",
    "\n",
    "for title, stat in zip(soup.select('h6.text-white'), soup.select('h2 > span')):\n",
    "    covid_summary[title.text] = stat.text.replace(',', '')\n",
    "    \n",
    "covid_summary_S = pd.Series(covid_summary, name='COVID')\n",
    "\n",
    "# Convert from object to integer data type\n",
    "covid_summary_S = pd.to_numeric(covid_summary_S)\n",
    "covid_summary_S"
   ]
  },
  {
   "cell_type": "markdown",
   "metadata": {},
   "source": [
    "#### Extract data from the `Confirmed Cases by States` table on the NCDC website"
   ]
  },
  {
   "cell_type": "code",
   "execution_count": null,
   "metadata": {},
   "outputs": [],
   "source": [
    "# Create a list containing the column names of the table\n",
    "header_list = []\n",
    "\n",
    "for th in soup.select('th'):\n",
    "    header_list.append(th.text)\n",
    "    \n",
    "header_list"
   ]
  },
  {
   "cell_type": "code",
   "execution_count": null,
   "metadata": {},
   "outputs": [],
   "source": [
    "# Extract table data\n",
    "table_data = soup.select('tr')[1:] # row[0] contains info about column name\n",
    "data_list = []\n",
    "\n",
    "for tr in table_data:\n",
    "    state = tr.select('td')[0].text.strip()\n",
    "    cases_c = tr.select('td')[1].text.strip()\n",
    "    cases_a = tr.select('td')[2].text.strip()\n",
    "    discharged = tr.select('td')[3].text.strip()\n",
    "    deaths = tr.select('td')[4].text.strip()\n",
    "    data_list.append([state, cases_c, cases_a, discharged, deaths])\n",
    "    \n",
    "# Save the data in `data_list` to a DataFrame.\n",
    "covid_data_states = pd.DataFrame(data_list, columns=header_list)"
   ]
  },
  {
   "cell_type": "code",
   "execution_count": null,
   "metadata": {},
   "outputs": [],
   "source": [
    "# Set the current working directory and export `covid_data_states` as csv\n",
    "os.chdir(\"/Users/osala/Downloads/Nigeria-COVID-19-Data-Analysis-Using-Python-main\")\n",
    "\n",
    "covid_data_states.to_csv(\"COVID-19 data by state.csv\", index=False)"
   ]
  },
  {
   "cell_type": "markdown",
   "metadata": {},
   "source": [
    "### B - John Hopkins Data Repository \n",
    "* Global Daily Confirmed Cases - Click [Here](https://github.com/CSSEGISandData/COVID-19/blob/master/csse_covid_19_data/csse_covid_19_time_series/time_series_covid19_confirmed_global.csv)\n",
    "* Global Daily Recovered Cases - Click [Here](https://github.com/CSSEGISandData/COVID-19/blob/master/csse_covid_19_data/csse_covid_19_time_series/time_series_covid19_recovered_global.csv)\n",
    "* Global Daily Death Cases - Click [Here](https://github.com/CSSEGISandData/COVID-19/blob/master/csse_covid_19_data/csse_covid_19_time_series/time_series_covid19_deaths_global.csv)"
   ]
  },
  {
   "cell_type": "markdown",
   "metadata": {},
   "source": [
    "#### Save COVID-19 data from the GitHub repo links above to a DataFrame and also export as csv."
   ]
  },
  {
   "cell_type": "code",
   "execution_count": null,
   "metadata": {},
   "outputs": [],
   "source": [
    "confirmed_url = 'https://raw.githubusercontent.com/CSSEGISandData/COVID-19/master/csse_covid_19_data/csse_covid_19_time_series/time_series_covid19_confirmed_global.csv'\n",
    "confirmed_dly_gbl = pd.read_csv(confirmed_url)\n",
    "confirmed_dly_gbl.to_csv(\"time_series_covid19_confirmed_global\", index=False)\n",
    "\n",
    "recovered_url = 'https://raw.githubusercontent.com/CSSEGISandData/COVID-19/master/csse_covid_19_data/csse_covid_19_time_series/time_series_covid19_recovered_global.csv'\n",
    "recovered_dly_gbl = pd.read_csv(recovered_url)\n",
    "recovered_dly_gbl.to_csv(\"time_series_covid19_recovered_global\", index=False)\n",
    "\n",
    "deaths_url = 'https://raw.githubusercontent.com/CSSEGISandData/COVID-19/master/csse_covid_19_data/csse_covid_19_time_series/time_series_covid19_deaths_global.csv'\n",
    "deaths_dly_gbl = pd.read_csv(deaths_url)\n",
    "deaths_dly_gbl.to_csv(\"time_series_covid19_deaths_global\", index=False)"
   ]
  },
  {
   "cell_type": "markdown",
   "metadata": {},
   "source": [
    "### C - External Data \n",
    "1. `covid_external.csv`: This contains data about Nigeria's Community Vulnerability Index. [Data dictionary](https://docs.google.com/document/d/1BqQvTH-dV1xD5QWoMHlcY0PQC39RZ7-0hjqccozaG9k/edit). [Resource link](https://covid-static-assets.s3.amazonaws.com/Africa+CCVI+methodology.pdf).\n",
    "2. `Budget data.csv`: Info about initial and revised budgets per state\n",
    "3. `RealGDP.csv`: Nigeria's GDP data from 2014 to 2020"
   ]
  },
  {
   "cell_type": "code",
   "execution_count": null,
   "metadata": {},
   "outputs": [],
   "source": [
    "covid_ext = pd.read_csv('covid_external.csv')\n",
    "budget = pd.read_csv('Budget data.csv')\n",
    "gdp = pd.read_csv('RealGDP.csv')"
   ]
  },
  {
   "cell_type": "markdown",
   "metadata": {},
   "source": [
    "## View the data\n",
    "Obtain basic information about all the collected data using the `head()` and `info()` methods."
   ]
  },
  {
   "cell_type": "code",
   "execution_count": null,
   "metadata": {},
   "outputs": [],
   "source": [
    "data = ['covid_data_states', 'confirmed_dly_gbl', 'recovered_dly_gbl', 'deaths_dly_gbl',\n",
    "        'covid_ext', 'budget', 'gdp']\n",
    "\n",
    "for dataf in data:\n",
    "    print(dataf.upper())\n",
    "    print(eval(f'{dataf}.head()'), '\\n')\n",
    "    print(eval(f'{dataf}.info()'), '\\n\\n\\n')"
   ]
  },
  {
   "cell_type": "markdown",
   "metadata": {},
   "source": [
    "## Data Cleaning and Preparation \n",
    "* Rename the columns of the scraped data.\n",
    "* Remove commas (,) in the numerical data.\n",
    "* Convert to the appropriate data type.\n",
    "* Extract data for Nigeria from the global daily cases data."
   ]
  },
  {
   "cell_type": "markdown",
   "metadata": {},
   "source": [
    "#### A - Clean the scraped data"
   ]
  },
  {
   "cell_type": "code",
   "execution_count": null,
   "metadata": {},
   "outputs": [],
   "source": [
    "# Rename some columns in `covid_data_states`\n",
    "covid_data_states.rename(columns={'No. of Cases (Lab Confirmed)': 'Lab Confirmed Cases',\n",
    "                                  'No. of Cases (on admission)': 'Cases on Admission',\n",
    "                                  'No. Discharged': 'Discharged', 'No. of Deaths': 'Deaths'}, inplace=True)\n",
    "\n",
    "# Remove commas from numeric data and convert to the int datatype\n",
    "covid_data_states.replace({',': ''}, regex=True, inplace=True)\n",
    "\n",
    "for column in covid_data_states.iloc[:,1:]:\n",
    "    covid_data_states[column] = pd.to_numeric(covid_data_states[column])\n",
    "\n",
    "covid_data_states.info()\n",
    "covid_data_states.head(10)"
   ]
  },
  {
   "cell_type": "markdown",
   "metadata": {},
   "source": [
    "* There are no missing data"
   ]
  },
  {
   "cell_type": "markdown",
   "metadata": {},
   "source": [
    "#### B - Get a Pandas DataFrame for Daily Confirmed Cases in Nigeria. Column names are `Date` and `No of Cases`"
   ]
  },
  {
   "cell_type": "code",
   "execution_count": null,
   "metadata": {},
   "outputs": [],
   "source": [
    "# Create a filter to select only cases in Nigeria\n",
    "bool_c = confirmed_dly_gbl['Country/Region'] == 'Nigeria'\n",
    "confirmed_dly_nig = confirmed_dly_gbl.loc[bool_c]   # Filter applied\n",
    "cases_c = int(confirmed_dly_nig.index.values)       # Index of the Boolean slice: useful when renaming below\n",
    "\n",
    "# Transpose the data, select rows containing only dates and cases, reset the index, then rename the columns\n",
    "confirmed_dly_nig = confirmed_dly_nig.transpose().iloc[4:, :].reset_index().rename(\n",
    "                    columns={'index': 'Date', cases_c: 'No of Cases'})\n",
    "\n",
    "# Convert the columns to the appropriate datetime and numeric datatypes\n",
    "confirmed_dly_nig['Date'] = pd.to_datetime(confirmed_dly_nig['Date'])\n",
    "confirmed_dly_nig['No of Cases'] = pd.to_numeric(confirmed_dly_nig['No of Cases'])\n",
    "\n",
    "'''\n",
    "# Alternatively:\n",
    "# Select columns containing only dates and cases\n",
    "confirmed_dly_nig = confirmed_dly_nig.iloc[:, 4:]\n",
    "\n",
    "# Create a list of lists containing dates and corresponding values for each date\n",
    "confirmed_dly_nigeria_list = [[date, case] for date, case in zip(confirmed_dly_nigeria.columns.tolist(),\n",
    "                                                                 confirmed_dly_nigeria.values[0].tolist())]\n",
    "\n",
    "# Create a new dataframe from the list above\n",
    "confirmed_dly_nigeria = pd.DataFrame(confirmed_dly_nigeria_list, columns=['Date', 'No of Cases'])\n",
    "'''\n",
    "confirmed_dly_nig.info()\n",
    "confirmed_dly_nig"
   ]
  },
  {
   "cell_type": "markdown",
   "metadata": {},
   "source": [
    "#### C - Get a Pandas DataFrame for Daily Recovered Cases in Nigeria. Columns are `Date` and `No of Cases`"
   ]
  },
  {
   "cell_type": "code",
   "execution_count": null,
   "metadata": {},
   "outputs": [],
   "source": [
    "# Similar process as in B above\n",
    "bool_r = recovered_dly_gbl['Country/Region'] == 'Nigeria'\n",
    "recovered_dly_nig = recovered_dly_gbl.loc[bool_r]\n",
    "cases_r = int(recovered_dly_nig.index.values)\n",
    "\n",
    "recovered_dly_nig = recovered_dly_nig.transpose().iloc[4:, :].reset_index().rename(\n",
    "                    columns={'index': 'Date', cases_r: 'No of Cases'})\n",
    "\n",
    "recovered_dly_nig['Date'] = pd.to_datetime(recovered_dly_nig['Date'])\n",
    "recovered_dly_nig['No of Cases'] = pd.to_numeric(recovered_dly_nig['No of Cases'])\n",
    "recovered_dly_nig"
   ]
  },
  {
   "cell_type": "markdown",
   "metadata": {},
   "source": [
    "#### D - Get a Pandas DataFrame for Daily Death Cases in Nigeria. Columns are `Date` and `No of Cases`"
   ]
  },
  {
   "cell_type": "code",
   "execution_count": null,
   "metadata": {},
   "outputs": [],
   "source": [
    "#Similar process as in B above\n",
    "bool_d = deaths_dly_gbl['Country/Region'] == 'Nigeria'\n",
    "deaths_dly_nig = deaths_dly_gbl.loc[bool_d]\n",
    "cases_d = int(deaths_dly_nig.index.values)\n",
    "\n",
    "deaths_dly_nig = deaths_dly_nig.transpose().iloc[4:, :].reset_index().rename(\n",
    "                    columns={'index': 'Date', cases_d: 'No of Cases'})\n",
    "\n",
    "deaths_dly_nig['Date'] = pd.to_datetime(deaths_dly_nig['Date'])\n",
    "deaths_dly_nig['No of Cases'] = pd.to_numeric(deaths_dly_nig['No of Cases'])\n",
    "\n",
    "deaths_dly_nig"
   ]
  },
  {
   "cell_type": "markdown",
   "metadata": {},
   "source": [
    "## Analysis\n",
    "Here I will perform analysis on the data sets."
   ]
  },
  {
   "cell_type": "markdown",
   "metadata": {},
   "source": [
    "#### Summary of Nigeria's COVID-19 statistics"
   ]
  },
  {
   "cell_type": "code",
   "execution_count": null,
   "metadata": {},
   "outputs": [],
   "source": [
    "dark_grid_style = sns.set_theme(style=\"darkgrid\")\n",
    "\n",
    "covid_summary_S.plot(kind='bar', figsize=(10,4), colormap='Pastel1', fontsize=12, logy=True, ylabel='Log Values',\n",
    "                     rot=0.5)\n",
    "plt.title('SAMPLES TESTED FOR COVID-19 AND OUTCOMES', fontsize=16)"
   ]
  },
  {
   "cell_type": "markdown",
   "metadata": {},
   "source": [
    "* A small proportion of samples tested returned positive for COVID-19.\n",
    "* Most of the confirmed cases were discharged with a tiny percentage resulting in death."
   ]
  },
  {
   "cell_type": "markdown",
   "metadata": {},
   "source": [
    "#### A - Generate a plot showing the top 10 states in terms of lab-confirmed COVID-19 cases"
   ]
  },
  {
   "cell_type": "code",
   "execution_count": null,
   "metadata": {
    "scrolled": true
   },
   "outputs": [],
   "source": [
    "sns.catplot(x=\"States Affected\", y=\"Lab Confirmed Cases\", kind='bar', aspect=4, height=4, palette='pastel',\n",
    "            data=covid_data_states.nlargest(10, 'Lab Confirmed Cases'))\n",
    "plt.title('TOP 10 STATES WITH CONFIRMED CASES', fontsize=15)"
   ]
  },
  {
   "cell_type": "markdown",
   "metadata": {},
   "source": [
    "* Lagos has, by a large margin (more than twice), the highest number of confirmed cases; then FCT and Kaduna."
   ]
  },
  {
   "cell_type": "markdown",
   "metadata": {},
   "source": [
    "#### B - Generate a plot that shows the top 10 states in terms of discharged COVID cases."
   ]
  },
  {
   "cell_type": "code",
   "execution_count": null,
   "metadata": {},
   "outputs": [],
   "source": [
    "sns.catplot(x=\"States Affected\", y=\"Discharged\", kind='bar', aspect=4, height=3, palette='pastel',\n",
    "                  data=covid_data_states.nlargest(10, 'Discharged'))\n",
    "plt.title('TOP 10 STATES WITH DISCHARGED CASES', fontsize=15)"
   ]
  },
  {
   "cell_type": "markdown",
   "metadata": {},
   "source": [
    "* The same pattern as above is also seen here with Lagos having the highest number of discharged cases"
   ]
  },
  {
   "cell_type": "markdown",
   "metadata": {},
   "source": [
    "#### C - Plot the top 10 states with the highest death cases"
   ]
  },
  {
   "cell_type": "code",
   "execution_count": null,
   "metadata": {},
   "outputs": [],
   "source": [
    "sns.catplot(x=\"States Affected\", y=\"Deaths\", kind='bar', aspect=4, height=3, palette='pastel',\n",
    "                  data=covid_data_states.nlargest(10, 'Deaths'))\n",
    "plt.title('TOP 10 STATES BY DEATHS', fontsize=15)"
   ]
  },
  {
   "cell_type": "markdown",
   "metadata": {},
   "source": [
    "* There's a change here. Lagos has the highest number of deaths from COVID-19, followed by Edo then FCT."
   ]
  },
  {
   "cell_type": "markdown",
   "metadata": {},
   "source": [
    "#### D - Generate a line plot for the total daily confirmed, recovered and death cases in Nigeria"
   ]
  },
  {
   "cell_type": "code",
   "execution_count": null,
   "metadata": {},
   "outputs": [],
   "source": [
    "sns.relplot(data=confirmed_dly_nig, kind=\"line\", x=\"Date\", y=\"No of Cases\", aspect=4, height=3, palette='pastel')\n",
    "plt.title('CUMULATIVE CONFIRMED CASES', fontsize=15) \n",
    "\n",
    "sns.relplot(data=recovered_dly_nig, kind=\"line\", x=\"Date\", y=\"No of Cases\", aspect=4, height=3, palette='pastel',\n",
    "           color='green')\n",
    "plt.title('CUMULATIVE RECOVERED CASES', fontsize=15)\n",
    "\n",
    "sns.relplot(data=deaths_dly_nig, kind=\"line\", x=\"Date\", y=\"No of Cases\", aspect=4, height=3, palette='pastel',\n",
    "           color='red')\n",
    "plt.title('CUMULATIVE DEATHS', fontsize=15)"
   ]
  },
  {
   "cell_type": "markdown",
   "metadata": {},
   "source": [
    "* All three line plots show a two-phased logarithmic growth pattern.\n",
    "* The first increase in cases and deaths occured around 5-6 months after the onset of the pandemic while the second increase occured early this year."
   ]
  },
  {
   "cell_type": "markdown",
   "metadata": {},
   "source": [
    "#### E - Determine the daily infection rate.\n",
    "* Generate a line plot for the above.\n",
    "* Do the same for the daily recovered and death rates"
   ]
  },
  {
   "cell_type": "code",
   "execution_count": null,
   "metadata": {},
   "outputs": [],
   "source": [
    "# Use the `.diff` method to derive no of cases per day\n",
    "confirmed_dly_nig['Daily Cases'] = confirmed_dly_nig['No of Cases'].diff()\n",
    "confirmed_dly_nig"
   ]
  },
  {
   "cell_type": "code",
   "execution_count": null,
   "metadata": {},
   "outputs": [],
   "source": [
    "sns.relplot(data=confirmed_dly_nig, kind=\"line\",\n",
    "            x=\"Date\", y=\"Daily Cases\", aspect=4, height=3, palette='pastel')\n",
    "plt.title('DAILY CONFIRMED CASES', fontsize=15)"
   ]
  },
  {
   "cell_type": "markdown",
   "metadata": {},
   "source": [
    "* There was an increase in daily confirmed cases around the middle of 2020 and a higher (up to 4-fold) increase earlier this year."
   ]
  },
  {
   "cell_type": "code",
   "execution_count": null,
   "metadata": {},
   "outputs": [],
   "source": [
    "recovered_dly_nig['Daily Cases'] = recovered_dly_nig['No of Cases'].diff()\n",
    "\n",
    "sns.relplot(data=recovered_dly_nig, kind=\"line\", color='green',\n",
    "            x=\"Date\", y=\"Daily Cases\", aspect=4, height=3, palette='pastel')\n",
    "plt.title('DAILY RECOVERIES', fontsize=15)"
   ]
  },
  {
   "cell_type": "markdown",
   "metadata": {},
   "source": [
    "* Sharp spikes in the no of daily recoveries are seen at several intervals in the time series.\n",
    "* The sharpest spike is seen around the 8th month of 2020.\n",
    "* A relatively sustained increase in recovery cases is seen early this year."
   ]
  },
  {
   "cell_type": "code",
   "execution_count": null,
   "metadata": {},
   "outputs": [],
   "source": [
    "deaths_dly_nig['Daily Cases'] = deaths_dly_nig['No of Cases'].diff()\n",
    "\n",
    "sns.relplot(data=deaths_dly_nig, kind=\"line\", color='red',\n",
    "            x=\"Date\", y=\"Daily Cases\", aspect=4, height=3, palette='pastel')\n",
    "plt.title('DAILY DEATH RATES', fontsize=15)"
   ]
  },
  {
   "cell_type": "markdown",
   "metadata": {},
   "source": [
    "* The daily death rates also follow the general pattern of a two-phased increase in the number of confirmed cases and recoveries with a more jagged outline.\n",
    "* The jagged outlines suggest that reports may not have arrived daily as cases might have accumulated over weekends and then reported on the first day of the week."
   ]
  },
  {
   "cell_type": "markdown",
   "metadata": {},
   "source": [
    "#### F - Calculate maximum infection rate in a day (number of new cases); the maximum no of recoveries in a day, and the maximum daily death rate\n",
    "* Find the corresponding dates"
   ]
  },
  {
   "cell_type": "code",
   "execution_count": null,
   "metadata": {},
   "outputs": [],
   "source": [
    "confirmed_dly_nig.iloc[confirmed_dly_nig['Daily Cases'].idxmax(), [0, 2]]"
   ]
  },
  {
   "cell_type": "markdown",
   "metadata": {},
   "source": [
    "**The maximum daily infection rate is 2,464 on the 23rd of January, 2021**"
   ]
  },
  {
   "cell_type": "code",
   "execution_count": null,
   "metadata": {},
   "outputs": [],
   "source": [
    "recovered_dly_nig.iloc[recovered_dly_nig['Daily Cases'].idxmax(), [0, 2]]"
   ]
  },
  {
   "cell_type": "markdown",
   "metadata": {},
   "source": [
    "**The maximum no of daily recoveries is 11,188 on the 4th of August, 2020**"
   ]
  },
  {
   "cell_type": "code",
   "execution_count": null,
   "metadata": {},
   "outputs": [],
   "source": [
    "deaths_dly_nig.iloc[deaths_dly_nig['Daily Cases'].idxmax(), [0, 2]]"
   ]
  },
  {
   "cell_type": "markdown",
   "metadata": {},
   "source": [
    "**The maximum daily death rate, 31, occurred on the 16th of June, 2020**"
   ]
  },
  {
   "cell_type": "markdown",
   "metadata": {},
   "source": [
    "#### G - Determine any relationship between the `covid_ext` and the NCDC COVID-19 dataset. \n",
    "* Combine both data sets on a common column `States`.\n",
    "* Generate a line plot with the top 10 confirmed cases and the overall COVID-19 community vulnerability index (`Overall CCVI Index`) on the same axis."
   ]
  },
  {
   "cell_type": "code",
   "execution_count": null,
   "metadata": {},
   "outputs": [],
   "source": [
    "# Correct spelling errors within the 'states' column of covid_ext.\n",
    "covid_ext.iloc[[3,30], 0] = ['Nasarawa', 'Cross River']\n",
    "\n",
    "# Rename the `States Affected` and `states` columns to `States` in both dataframes\n",
    "covid_data_states.rename(columns={'States Affected': 'States'}, inplace=True)\n",
    "covid_ext.rename(columns={'states': 'States'}, inplace=True)\n",
    "\n",
    "# Merge both dataframes using `pd.merge()`\n",
    "covid_states_ext = pd.merge(covid_data_states, covid_ext, how='outer', on='States')\n",
    "\n",
    "covid_states_ext.info()\n",
    "covid_states_ext.head(10)"
   ]
  },
  {
   "cell_type": "code",
   "execution_count": null,
   "metadata": {},
   "outputs": [],
   "source": [
    "fig = plt.figure(figsize = (9,6))\n",
    "plt.title('RELATIONSHIP BETWEEN CONFIRMED CASES AND OVERALL CCVI INDEX', fontsize=16)\n",
    "\n",
    "ax1 = fig.add_subplot(111)\n",
    "ax1.plot('States', 'Lab Confirmed Cases', 'b-', data=covid_states_ext.nlargest(10, 'Lab Confirmed Cases'))\n",
    "ax1.set_ylabel('Lab Confirmed Cases', color='b')\n",
    "for tl in ax1.get_yticklabels():\n",
    "    tl.set_color('b')\n",
    "\n",
    "ax2 = ax1.twinx()\n",
    "ax2.plot('States', 'Overall CCVI Index', 'r--', data=covid_states_ext.nlargest(10, 'Lab Confirmed Cases'))\n",
    "ax2.set_ylabel('Overall CCVI Index', color='r')\n",
    "for tl in ax2.get_yticklabels():\n",
    "    tl.set_color('r')\n",
    "    \n",
    "plt.grid(b=None)"
   ]
  },
  {
   "cell_type": "markdown",
   "metadata": {},
   "source": [
    "* Lagos has the highest number of cases and correspondingly the lowest overall CCVI index"
   ]
  },
  {
   "cell_type": "code",
   "execution_count": null,
   "metadata": {},
   "outputs": [],
   "source": [
    "fig = plt.figure(figsize = (9,6))\n",
    "plt.title('RELATIONSHIP BETWEEN DISCHARGED CASES AND OVERALL CCVI INDEX', fontsize=16)\n",
    "\n",
    "ax1 = fig.add_subplot(111)\n",
    "ax1.plot('States', 'Discharged', 'g-', data=covid_states_ext.nlargest(10, 'Discharged'))\n",
    "ax1.set_ylabel('Discharged Cases', color='g')\n",
    "for tl in ax1.get_yticklabels():\n",
    "    tl.set_color('g')\n",
    "\n",
    "ax2 = ax1.twinx()\n",
    "ax2.plot('States', 'Overall CCVI Index', 'r--', data=covid_states_ext.nlargest(10, 'Discharged'))\n",
    "ax2.set_ylabel('Overall CCVI Index', color='r')\n",
    "for tl in ax2.get_yticklabels():\n",
    "    tl.set_color('r')\n",
    "    \n",
    "plt.grid(b=None)    "
   ]
  },
  {
   "cell_type": "markdown",
   "metadata": {},
   "source": [
    "* Lagos also has the highest number of discharged cases despite its low overall CCVI index"
   ]
  },
  {
   "cell_type": "code",
   "execution_count": null,
   "metadata": {},
   "outputs": [],
   "source": [
    "fig = plt.figure(figsize = (9,6))\n",
    "plt.title('RELATIONSHIP BETWEEN COVID DEATHS AND OVERALL CCVI INDEX', fontsize=16)\n",
    "\n",
    "ax1 = fig.add_subplot(111)\n",
    "ax1.plot('States', 'Deaths', 'black', data=covid_states_ext.nlargest(10, 'Deaths'))\n",
    "ax1.set_ylabel('COVID Deaths', color='black')\n",
    "for tl in ax1.get_yticklabels():\n",
    "    tl.set_color('black')\n",
    "\n",
    "ax2 = ax1.twinx()\n",
    "ax2.plot('States', 'Overall CCVI Index', 'r--', data=covid_states_ext.nlargest(10, 'Deaths'))\n",
    "ax2.set_ylabel('Overall CCVI Index', color='r')\n",
    "for tl in ax2.get_yticklabels():\n",
    "    tl.set_color('r')\n",
    "    \n",
    "plt.grid(b=None)"
   ]
  },
  {
   "cell_type": "markdown",
   "metadata": {},
   "source": [
    "* There's a clearer relationship between the overall CCVI index and deaths. States with a low overall CCVI index tend to have a higher number of COVID-19 deaths with exceptions.\n",
    "* A notable exception is Ondo State."
   ]
  },
  {
   "cell_type": "markdown",
   "metadata": {},
   "source": [
    "#### H - Determine the relationship between the `covid_ext` and the NCDC COVID-19 dataset. \n",
    "* Generate a regression plot between two variables to visualize the linear relationships - `Lab Confirmed Cases` and `Population Density`."
   ]
  },
  {
   "cell_type": "code",
   "execution_count": null,
   "metadata": {},
   "outputs": [],
   "source": [
    "sns.regplot(y='Lab Confirmed Cases', x='Population Density',\n",
    "            data=covid_states_ext)\n",
    "plt.title('POPULATION DENSITY VS CONFIRMED CASES', fontsize=14)"
   ]
  },
  {
   "cell_type": "markdown",
   "metadata": {},
   "source": [
    "* Population density is not a reliable predictor of confirmed cases"
   ]
  },
  {
   "cell_type": "code",
   "execution_count": null,
   "metadata": {},
   "outputs": [],
   "source": [
    "sns.regplot(y='Discharged', x='Population Density',\n",
    "            data=covid_states_ext, color='green')\n",
    "plt.title('POPULATION DENSITY VS DISCHARGED CASES', fontsize=14)"
   ]
  },
  {
   "cell_type": "markdown",
   "metadata": {},
   "source": [
    "* Population density is a poor predictor of discharged cases"
   ]
  },
  {
   "cell_type": "code",
   "execution_count": null,
   "metadata": {},
   "outputs": [],
   "source": [
    "sns.regplot(y='Deaths', x='Population Density',\n",
    "            data=covid_states_ext, color='red')\n",
    "plt.title('POPULATION DENSITY VS DEATHS', fontsize=14)"
   ]
  },
  {
   "cell_type": "markdown",
   "metadata": {},
   "source": [
    "* Population density is a poor predictor of the number of deaths"
   ]
  },
  {
   "cell_type": "markdown",
   "metadata": {},
   "source": [
    "#### I - Determine the effect of the pandemic on the economy by comparing the real GDP value pre-COVID-19 with real GDP in 2020 (especially Q2 2020)\n",
    "Steps\n",
    "\n",
    "* Generate a `barplot` from `gdp` using the GDP values for each year & quarters. Create subplots of each quarter on one graph.\n",
    "<br>\n",
    "\n",
    "Using `pd.melt()`, create a DataFrame for the plot mentioned above. \n",
    "* Set quarter legend to lower left.\n",
    "* Using `axhline`, draw a horizontal line through the graph at the value of Q2 2020."
   ]
  },
  {
   "cell_type": "code",
   "execution_count": null,
   "metadata": {},
   "outputs": [],
   "source": [
    "# Melt the `gdp` dataframe and sort by the `Year` and `GDP value` columns \n",
    "melted_gdp = gdp.melt(['Year'], var_name='Quarter', value_name='GDP value', ignore_index=False).sort_values(\n",
    "                                                                                            ['Year', 'Quarter'])\n",
    "melted_gdp.head(10)"
   ]
  },
  {
   "cell_type": "code",
   "execution_count": null,
   "metadata": {},
   "outputs": [],
   "source": [
    "plt.figure(figsize = (11,4))\n",
    "gdp_g = sns.barplot(x='Year', y=\"GDP value\", hue='Quarter', palette='pastel',\n",
    "                  data=melted_gdp)\n",
    "gdp_g.legend(loc=3, title='Quarter', bbox_to_anchor=(-0.17,0))\n",
    "gdp_g.axhline(15890000.00) # value of Q2 2020\n",
    "gdp_g.set_title('QUARTERLY GDP VALUES FROM 2014 TO 2020', fontdict={'fontsize':17,'fontweight':'bold'})"
   ]
  },
  {
   "cell_type": "markdown",
   "metadata": {},
   "source": [
    "* There is a slight decrease in the second quarter 2020 GDP value compared to the pre-COVID 2019 value.\n",
    "* There's however no significant difference between second quarter GDP values before 2019 and Q2 values in 2020.\n",
    "* All the years show an increase in GDP from Q1 to Q4 except 2020 in which there's a decrease in GDP from Q1 to Q2. This corresponds to the period of the first COVID-19 wave and national lockdown."
   ]
  },
  {
   "cell_type": "markdown",
   "metadata": {},
   "source": [
    "#### J - View the initial and revised bugdet for the year 2020 using a `barplot`"
   ]
  },
  {
   "cell_type": "code",
   "execution_count": null,
   "metadata": {},
   "outputs": [],
   "source": [
    "budget.plot('states', kind='bar', figsize=(12,5), fontsize=12, xlabel='States')\n",
    "plt.title('INITIAL AND REVISED BUDGETS DURING THE PANDEMIC', fontsize=15)"
   ]
  },
  {
   "cell_type": "markdown",
   "metadata": {},
   "source": [
    "* The state with the largest relative decrease in budget is Cross River followed by Lagos state. However, Cross River is not among the top 10 states most affected by COVID-19."
   ]
  },
  {
   "cell_type": "markdown",
   "metadata": {},
   "source": [
    "#### K - View monthly COVID-19 statistics"
   ]
  },
  {
   "cell_type": "code",
   "execution_count": null,
   "metadata": {},
   "outputs": [],
   "source": [
    "# Extract `Year` and `Month` data from the `Date` column.\n",
    "confirmed_dly_nig['Year'] = confirmed_dly_nig['Date'].dt.year\n",
    "confirmed_dly_nig['Month'] = confirmed_dly_nig['Date'].dt.month\n",
    "\n",
    "# Group by year and month, then sum up no of monthly cases.\n",
    "con_covid_mthly = confirmed_dly_nig.groupby(['Year', 'Month']).sum()\n",
    "\n",
    "# Plot monthly data\n",
    "con_covid_mthly.plot(y='Daily Cases', kind='bar', figsize=(11,5), ylabel='Cases', legend=False)\n",
    "plt.title('AGGREGATE CONFIRMED CASES PER MONTH', fontsize=16)"
   ]
  },
  {
   "cell_type": "markdown",
   "metadata": {},
   "source": [
    "* The highest number of monthly confirmed cases was seen in January followed by February"
   ]
  },
  {
   "cell_type": "code",
   "execution_count": null,
   "metadata": {},
   "outputs": [],
   "source": [
    "recovered_dly_nig['Year'] = recovered_dly_nig['Date'].dt.year\n",
    "recovered_dly_nig['Month'] = recovered_dly_nig['Date'].dt.month\n",
    "rec_covid_mthly = recovered_dly_nig.groupby(['Year', 'Month']).sum()\n",
    "\n",
    "rec_covid_mthly.plot(y='Daily Cases', kind='bar', figsize=(11,5), ylabel='Cases', legend=False, color='green')\n",
    "plt.title('AGGREGATE RECOVERED CASES PER MONTH', fontsize=16)"
   ]
  },
  {
   "cell_type": "markdown",
   "metadata": {},
   "source": [
    "* The same pattern is seen as for confirmed cases but the difference in cases between the two months is much smaller."
   ]
  },
  {
   "cell_type": "code",
   "execution_count": null,
   "metadata": {},
   "outputs": [],
   "source": [
    "deaths_dly_nig['Year'] = deaths_dly_nig['Date'].dt.year\n",
    "deaths_dly_nig['Month'] = deaths_dly_nig['Date'].dt.month\n",
    "dths_covid_mthly = deaths_dly_nig.groupby(['Year', 'Month']).sum()\n",
    "\n",
    "dths_covid_mthly.plot(y='Daily Cases', kind='bar', figsize=(11,5), ylabel='Cases', legend=False, color='red')"
   ]
  },
  {
   "cell_type": "markdown",
   "metadata": {},
   "source": [
    "* A two-phased spike in deaths is seen. However, the highest number of monthly deaths is seen in February, 2021 following the spike in number of confirmed and discharged cases that occurred in January.\n",
    "* The month within which the second highest number of deaths was recorded is June, 2020.\n",
    "* A similar profile of the number of deaths per month during both waves may be an indication of a reduced mortality rate during the second wave."
   ]
  }
 ],
 "metadata": {
  "kernelspec": {
   "display_name": "Python 3",
   "language": "python",
   "name": "python3"
  },
  "language_info": {
   "codemirror_mode": {
    "name": "ipython",
    "version": 3
   },
   "file_extension": ".py",
   "mimetype": "text/x-python",
   "name": "python",
   "nbconvert_exporter": "python",
   "pygments_lexer": "ipython3",
   "version": "3.8.5"
  }
 },
 "nbformat": 4,
 "nbformat_minor": 4
}
